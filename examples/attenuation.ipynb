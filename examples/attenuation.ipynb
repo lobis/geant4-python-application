{
 "cells": [
  {
   "cell_type": "markdown",
   "id": "bb4f549ca6860292",
   "metadata": {},
   "source": [
    "The purpose of this example is to show how to use this package to study the attenuation of photons in a material.\n",
    "\n",
    "We define a very simple geometry: a target volume made of lead is protected by a shielding volume, whose material can be set by the user.\n",
    "Photons are launched towards the target, protected by the shielding. The thickness of the shielding can be set by the user.\n",
    "If there is some energy left on the target, we consider that the shielding has failed to block the incident particles.\n",
    "We compute the ratio of events reaching the target, and we plot it as a function of the thickness of the shielding."
   ]
  },
  {
   "cell_type": "code",
   "execution_count": 9,
   "id": "d76f253037a13f97",
   "metadata": {
    "ExecuteTime": {
     "end_time": "2024-10-05T23:46:41.222095Z",
     "start_time": "2024-10-05T23:46:41.219493Z"
    }
   },
   "outputs": [],
   "source": [
    "from __future__ import annotations\n",
    "\n",
    "\n",
    "def construct_geometry_gdml(material: str, thickness_mm: float):\n",
    "    return Rf\"\"\"<?xml version=\"1.0\" encoding=\"utf-8\" standalone=\"no\" ?>\n",
    "    <gdml xmlns:xsi=\"http://www.w3.org/2001/XMLSchema-instance\"\n",
    "          xsi:noNamespaceSchemaLocation=\"http://service-spi.web.cern.ch/service-spi/app/releases/GDML/schema/gdml.xsd\">\n",
    "    \n",
    "        <define>\n",
    "            <constant name=\"worldSize\" value=\"1000\"/>\n",
    "            <constant name=\"size_XY_mm\" value=\"100\"/>\\\n",
    "            <constant name=\"target_thickness_mm\" value=\"100\"/>\n",
    "        </define>\n",
    "    \n",
    "        <solids>\n",
    "            <box name=\"world_solid\" x=\"size_XY_mm\" y=\"size_XY_mm\" z=\"{thickness_mm} * 2 + target_thickness_mm * 2\" lunit=\"mm\"/>\\\n",
    "            \n",
    "            <box name=\"shielding_solid\" x=\"size_XY_mm\" y=\"size_XY_mm\" z=\"{thickness_mm}\" lunit=\"mm\"/>\\\n",
    "            <box name=\"target_solid\" x=\"size_XY_mm\" y=\"size_XY_mm\" z=\"target_thickness_mm\" lunit=\"mm\"/>\n",
    "        </solids>\n",
    "    \n",
    "        <structure>\n",
    "            <volume name=\"shielding_volume\">\n",
    "                <materialref ref=\"{material}\"/>\n",
    "                <solidref ref=\"shielding_solid\"/>\n",
    "            </volume>\n",
    "    \n",
    "            <volume name=\"target_volume\">\n",
    "                <materialref ref=\"G4_Pb\"/>\n",
    "                <solidref ref=\"target_solid\"/>\n",
    "            </volume>\n",
    "            \n",
    "            <volume name=\"World\">\n",
    "                <materialref ref=\"G4_AIR\"/>\n",
    "                <solidref ref=\"world_solid\"/>\n",
    "    \n",
    "                <physvol name=\"target\">\n",
    "                    <volumeref ref=\"target_volume\"/>\n",
    "                    <position name=\"target_position\" unit=\"mm\" x=\"0\" y=\"0\" z=\"target_thickness_mm/2\"/>\n",
    "                </physvol>\n",
    "    \n",
    "                <physvol name=\"shielding\">\n",
    "                    <volumeref ref=\"shielding_volume\"/>\n",
    "                    <position name=\"shielding_position\" unit=\"mm\" x=\"0\" y=\"0\" z=\"{-0.5 * thickness_mm}\"/>\n",
    "                </physvol>\n",
    "            </volume>\n",
    "        </structure>\n",
    "    \n",
    "        <setup name=\"Default\" version=\"1.0\">\n",
    "            <world ref=\"World\"/>\n",
    "        </setup>\n",
    "    </gdml>\n",
    "    \"\"\""
   ]
  },
  {
   "cell_type": "code",
   "execution_count": null,
   "id": "initial_id",
   "metadata": {
    "ExecuteTime": {
     "end_time": "2024-10-06T00:19:01.061788Z",
     "start_time": "2024-10-06T00:17:59.435714Z"
    },
    "collapsed": false
   },
   "outputs": [],
   "source": [
    "from concurrent.futures import ThreadPoolExecutor\n",
    "\n",
    "import numpy as np\n",
    "\n",
    "from geant4_python_application import Application\n",
    "\n",
    "thicknesses = np.logspace(0, 2, 50)\n",
    "ratios = np.zeros(len(thicknesses))\n",
    "ratios_error = np.zeros(len(thicknesses))\n",
    "\n",
    "\n",
    "def compute(i: int):\n",
    "    thickness = thicknesses[i]\n",
    "    geometry = construct_geometry_gdml(material=\"G4_Pb\", thickness_mm=thickness)\n",
    "\n",
    "    with Application(gdml=geometry) as app:\n",
    "        app.command(\"/gun/particle gamma\")\n",
    "        app.command(\"/gun/energy 477.6 keV\")\n",
    "        app.command(\"/gun/direction 0 0 1\")\n",
    "        app.command(\"/gun/position 0 0 -1 m\")\n",
    "\n",
    "        max_total_count = 100000\n",
    "\n",
    "        total_counts = 0\n",
    "        valid_counts = 0\n",
    "\n",
    "        while total_counts < max_total_count:\n",
    "            # batch size can be adjusted to optimize performance\n",
    "            events = app.run(5000)\n",
    "            total_counts += len(events)\n",
    "            valid_counts += np.sum(events.energy_in_volume(\"target\") > 0)\n",
    "            # check if relative error is below 1%\n",
    "            if valid_counts > 0 and np.sqrt(valid_counts) / valid_counts < 0.01:\n",
    "                break\n",
    "\n",
    "        ratios[i] = valid_counts / total_counts\n",
    "\n",
    "        if valid_counts > 0:\n",
    "            # add some upper limit to the error (68% confidence level)\n",
    "            ratios_error[i] = np.sqrt(valid_counts) / total_counts\n",
    "        else:\n",
    "            ratios_error[i] = 1.14 / total_counts\n",
    "\n",
    "\n",
    "# We can compute in parallel, with each simulation running in a separate thread. \n",
    "# The light-weight threads spawn a process that runs the simulation, so this will benefit from multi-core CPUs.\n",
    "# Each simulation might be memory hungry, so we should not run too many in parallel.\n",
    "# Geant4 has built-in parallelism, but it cannot be used for this particular case, as each simulation has its own geometry.\n",
    "with ThreadPoolExecutor(max_workers=8) as executor:\n",
    "    # we compute in reverse order as the simulations with larger thicknesses will take longer\n",
    "    executor.map(compute, reversed(range(len(thicknesses))))\n",
    "\n",
    "for i in range(len(thicknesses)):\n",
    "    ...\n",
    "    # compute(i) # alternatively, we could compute sequentially\n",
    "\n",
    "for thickness, ratio, ratio_error in zip(thicknesses, ratios, ratios_error):\n",
    "    print(f\"Thickness: {thickness:0.3e} mm, ratio: {ratio:0.3e} ± {ratio_error:0.3e}\")\n",
    "\n",
    "# Beware! The stdout may be too long that it can apparently corrupt the notebook file, it may be a good idea to clear the cell output before saving the notebook.\n",
    "    "
   ]
  },
  {
   "cell_type": "code",
   "execution_count": 30,
   "id": "e6d03034174739bc",
   "metadata": {
    "ExecuteTime": {
     "end_time": "2024-10-06T00:19:01.761535Z",
     "start_time": "2024-10-06T00:19:01.551390Z"
    }
   },
   "outputs": [
    {
     "data": {
      "image/png": "[encoded data removed]",
      "text/plain": [
       "<Figure size 1000x600 with 1 Axes>"
      ]
     },
     "metadata": {},
     "output_type": "display_data"
    }
   ],
   "source": [
    "import matplotlib.pyplot as plt\n",
    "\n",
    "plt.figure(figsize=(10, 6))\n",
    "\n",
    "plt.errorbar(thicknesses, ratios, yerr=ratios_error, fmt=\"o\", color=\"blue\")\n",
    "\n",
    "plt.xscale(\"log\")\n",
    "plt.yscale(\"log\")\n",
    "\n",
    "plt.xlabel(\"Thickness [mm]\")\n",
    "plt.ylabel(\"Ratio of events reaching the target\")\n",
    "\n",
    "plt.show()"
   ]
  },
  {
   "cell_type": "code",
   "execution_count": 28,
   "id": "87686653101defc6",
   "metadata": {
    "ExecuteTime": {
     "end_time": "2024-10-06T00:19:01.341389Z",
     "start_time": "2024-10-06T00:19:01.338604Z"
    }
   },
   "outputs": [
    {
     "name": "stdout",
     "output_type": "stream",
     "text": [
      "Thickness to block 90% of the particles: 1.526e+01 mm\n",
      "Thickness to block 99% of the particles: 2.947e+01 mm\n",
      "Thickness to block 99.9% of the particles: 4.292e+01 mm\n",
      "Thickness to block 99.99% of the particles: 5.179e+01 mm\n",
      "Thickness to block 99.999% of the particles: 6.251e+01 mm\n",
      "Thickness to block 99.9999% of the particles: 6.251e+01 mm\n",
      "Thickness to block 99.99999% of the particles: 6.251e+01 mm\n",
      "Thickness to block 99.999999% of the particles: 6.251e+01 mm\n"
     ]
    }
   ],
   "source": [
    "\n",
    "def find_thickness(ratio_stop: float):\n",
    "    # ratio_stop is the fraction of particles that we want to block e.g. 0.999\n",
    "    if not 0 < ratio_stop < 1:\n",
    "        raise ValueError(\"ratio_stop should be between 0 and 1\")\n",
    "\n",
    "    ratio_min = 1 - ratio_stop\n",
    "    for thickness, ratio, ratio_error in zip(thicknesses, ratios, ratios_error):\n",
    "        if ratio < ratio_min + ratio_error:\n",
    "            return thickness\n",
    "\n",
    "\n",
    "print(f\"Thickness to block 90% of the particles: {find_thickness(0.9):0.3e} mm\")\n",
    "print(f\"Thickness to block 99% of the particles: {find_thickness(0.99):0.3e} mm\")\n",
    "print(f\"Thickness to block 99.9% of the particles: {find_thickness(0.999):0.3e} mm\")\n",
    "print(f\"Thickness to block 99.99% of the particles: {find_thickness(0.9999):0.3e} mm\")\n",
    "print(f\"Thickness to block 99.999% of the particles: {find_thickness(0.99999):0.3e} mm\")\n",
    "print(f\"Thickness to block 99.9999% of the particles: {find_thickness(0.999999):0.3e} mm\")\n",
    "print(f\"Thickness to block 99.99999% of the particles: {find_thickness(0.9999999):0.3e} mm\")\n",
    "print(f\"Thickness to block 99.999999% of the particles: {find_thickness(0.99999999):0.3e} mm\")"
   ]
  },
  {
   "cell_type": "code",
   "execution_count": null,
   "id": "8d945822569f7c73",
   "metadata": {
    "ExecuteTime": {
     "end_time": "2024-10-05T23:49:02.098962Z",
     "start_time": "2024-10-05T23:49:02.097223Z"
    }
   },
   "outputs": [],
   "source": []
  }
 ],
 "metadata": {
  "kernelspec": {
   "display_name": "Python 3",
   "language": "python",
   "name": "python3"
  },
  "language_info": {
   "codemirror_mode": {
    "name": "ipython",
    "version": 2
   },
   "file_extension": ".py",
   "mimetype": "text/x-python",
   "name": "python",
   "nbconvert_exporter": "python",
   "pygments_lexer": "ipython2",
   "version": "2.7.6"
  }
 },
 "nbformat": 4,
 "nbformat_minor": 5
}
