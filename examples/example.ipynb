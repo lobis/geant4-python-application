{
    "cells" : [
        {
            "cell_type": "code",
            "execution_count": null,
            "id": "initial_id",
            "metadata": {
                "collapsed": false
            },
            "outputs": [],
            "source": [
                "from __future__ import annotations\n",
                "\n",
                "from geant4_python_application import Application, basic_gdml\n",
                "\n",
                "app = Application()\n",
                "\n",
                "app.setup_manager(n_threads=0)\n",
                "app.setup_physics()\n",
                "app.setup_detector(gdml=basic_gdml)\n",
                "app.setup_action()\n",
                "\n",
                "app.initialize()\n",
                "\n",
                "print(f\"Random seed: {app.random_seed}\")\n",
                "\n",
                "events = app.run(n_events=100)\n",
                "\n",
                "print(events)"
            ]
        }
    ],
              "metadata" : {
                  "kernelspec": {
                      "display_name": "Python 3",
                      "language": "python",
                      "name": "python3"
                  },
                  "language_info": {
                      "codemirror_mode": {
                          "name": "ipython",
                          "version": 2
                      },
                      "file_extension": ".py",
                      "mimetype": "text/x-python",
                      "name": "python",
                      "nbconvert_exporter": "python",
                      "pygments_lexer": "ipython2",
                      "version": "2.7.6"
                  }
              },
                           "nbformat" : 4,
                           "nbformat_minor" : 5
}
