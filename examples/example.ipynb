{
  "cells": [
    {
      "cell_type": "code",
      "execution_count": null,
      "id": "initial_id",
      "metadata": {
        "collapsed": true
      },
      "outputs": [],
      "source": [
        "from geant4 import Application\n",
        "\n",
        "app = Application()\n",
        "\n",
        "app.setup_manager(n_threads=4)\n",
        "app.setup_physics()\n",
        "app.setup_detector()  # can take a GDML string as argument\n",
        "app.setup_action()\n",
        "\n",
        "app.initialize()\n",
        "\n",
        "# launch 100 events\n",
        "app.run(100)"
      ]
    }
  ],
  "metadata": {
    "kernelspec": {
      "display_name": "Python 3",
      "language": "python",
      "name": "python3"
    },
    "language_info": {
      "codemirror_mode": {
        "name": "ipython",
        "version": 2
      },
      "file_extension": ".py",
      "mimetype": "text/x-python",
      "name": "python",
      "nbconvert_exporter": "python",
      "pygments_lexer": "ipython2",
      "version": "2.7.6"
    }
  },
  "nbformat": 4,
  "nbformat_minor": 5
}
